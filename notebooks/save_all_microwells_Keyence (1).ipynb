{
 "cells": [
  {
   "cell_type": "code",
   "execution_count": null,
   "metadata": {
    "collapsed": true
   },
   "outputs": [],
   "source": [
    "#import stuff for saving images\n",
    "\n",
    "%load_ext autoreload\n",
    "\n",
    "%autoreload 2\n",
    "\n",
    "import sys\n",
    "sys.path.insert(0, '/home/users/aadams0/microwell_code/processingpack')\n",
    "\n",
    "from copy import deepcopy\n",
    "from pathlib import Path\n",
    "\n",
    "import numpy as np\n",
    "import skimage\n",
    "# from skimage import measure\n",
    "import pandas as pd\n",
    "# from tqdm import tqdm\n",
    "%matplotlib inline\n",
    "# import matplotlib.pyplot as pl\n",
    "\n",
    "# from skimage import data, filters, io\n",
    "import operator\n",
    "\n",
    "# from mpl_toolkits.axes_grid1 import make_axes_locatable\n",
    "# import os\n",
    "import cv2 as cv\n",
    "\n",
    "import ast\n",
    "\n",
    "import chip\n",
    "import experiment as exp\n",
    "import chipcollections as collections\n",
    "from org_extension import *\n",
    "\n",
    "\n",
    "%config InlineBackend.figure_format = 'svg'"
   ]
  },
  {
   "cell_type": "code",
   "execution_count": null,
   "metadata": {
    "scrolled": true
   },
   "outputs": [],
   "source": [
    "#save all microwell images - single day\n",
    "\n",
    "\n",
    "output_folder = '/oak/stanford/groups/pfordyce/data-workspace/microwells/Wing_drug_tests/processed_data/'\n",
    "# well_number = 1\n",
    "# thresh = 1150\n",
    "\n",
    "\n",
    "#iterate through all days in timecourse    \n",
    "# for day in (1):\n",
    "mCherry_reimport = pd.read_csv(output_folder + 'B2_day1_subarrays-1-20220623.csv')\n",
    "mCherry_imagePath = output_folder + 'B2_day1_subarrays-1-20220623.tif'\n",
    "with skimage.external.tifffile.TiffFile(mCherry_imagePath) as mCherry_tif:\n",
    "    mCherry_data = mCherry_tif.asarray()\n",
    "\n",
    "#save microwell images\n",
    "for i in range(len(mCherry_reimport)):\n",
    "    chamberInfo = mCherry_reimport.iloc[int(i)]\n",
    "    xslice = ast.literal_eval(chamberInfo.summaryImg_xslice)\n",
    "    yslice = ast.literal_eval(chamberInfo.summaryImg_yslice)\n",
    "    mCherry_well = mCherry_data[chamberInfo.stack_indexer][xslice[0]:xslice[1],yslice[0]:yslice[1]]\n",
    "    cv.imwrite('/oak/stanford/groups/pfordyce/data-workspace/microwells/Wing_drug_tests/processed_data/microwells/well{0}_day1.tif'.format(i), mCherry_well)\n",
    "\n",
    "\n",
    "    print('well' + \" \" +  str(i))\n"
   ]
  },
  {
   "cell_type": "code",
   "execution_count": null,
   "metadata": {
    "collapsed": true
   },
   "outputs": [],
   "source": [
    "#save all microwell images - multi day\n",
    "\n",
    "\n",
    "output_folder = '/oak/stanford/groups/pfordyce/data-workspace/microwells/Wing_drug_tests/processed_data/'\n",
    "well_number = 1\n",
    "\n",
    "\n",
    "#iterate through all days in timecourse    \n",
    "for day in (1,3,5,7,9):\n",
    "    mCherry_reimport = pd.read_csv(output_folder + 'mCherry/timepoint_{0}-{1}-20200124.csv'.format(timepoint,well_number))\n",
    "    mCherry_imagePath = output_folder + 'mCherry/timepoint_{0}-{1}-20200124.tif'.format(timepoint,well_number)\n",
    "    with skimage.external.tifffile.TiffFile(mCherry_imagePath) as mCherry_tif:\n",
    "        mCherry_data = mCherry_tif.asarray()\n",
    "        \n",
    "    #find inside of microwell area for first n wells\n",
    "    for i in range(len(mCherry_reimport)):\n",
    "#     i = 225\n",
    "        dc_id = ids[i]\n",
    "        chamberInfo = mCherry_reimport.iloc[int(i)]\n",
    "        xslice = ast.literal_eval(chamberInfo.summaryImg_xslice)\n",
    "        yslice = ast.literal_eval(chamberInfo.summaryImg_yslice)\n",
    "        mCherry_well = mCherry_data[chamberInfo.stack_indexer][xslice[0]:xslice[1],yslice[0]:yslice[1]]\n",
    "        cv.imwrite('/scratch/users/aadams0/processed_data/Nikon/new/230_P53_ARID1A_20200114/A1/wells1_grows_pos/raw/well{0}_timepoint{1}_mCherry_well.tif'.format(dc_id, timepoint), mCherry_well)\n",
    "\n",
    "    #         blur = cv.medianBlur(mCherry_uint8,5,0)\n",
    "\n",
    "    #         mCherry_blur = cv.blur(mCherry_well, (5,5))\n",
    "    #         ret,mCherry_th1 = cv.threshold(mCherry_well,thresh,65535,cv.THRESH_BINARY)\n",
    "    #         cv.imwrite('/scratch/users/aadams0/processed_data/Nikon/Wing_repeat_experiments/microwell_073021/C4/outlier_wells/well{0:04d}_timepoint{1}_mCherry_th1.tif'.format(i, timepoint), mCherry_th1)\n",
    "\n",
    "    #         mCherry_area = (np.sum(mCherry_th1)/65535)\n",
    "\n",
    "        print('well' + \" \" +  str(i) + \" \" + 'timepoint' + \" \" + str(timepoint))\n"
   ]
  }
 ],
 "metadata": {
  "kernelspec": {
   "display_name": "Python 3",
   "language": "python",
   "name": "python3"
  },
  "language_info": {
   "codemirror_mode": {
    "name": "ipython",
    "version": 3
   },
   "file_extension": ".py",
   "mimetype": "text/x-python",
   "name": "python",
   "nbconvert_exporter": "python",
   "pygments_lexer": "ipython3",
   "version": "3.6.1"
  }
 },
 "nbformat": 4,
 "nbformat_minor": 2
}
