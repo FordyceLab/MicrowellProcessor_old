{
 "cells": [
  {
   "cell_type": "code",
   "execution_count": null,
   "metadata": {
    "collapsed": true
   },
   "outputs": [],
   "source": [
    "#imports\n",
    "\n",
    "%load_ext autoreload\n",
    "%autoreload 2\n",
    "\n",
    "import sys\n",
    "sys.path.insert(0, '/MicrowellProcessor/processingpack')\n",
    "\n",
    "from copy import deepcopy\n",
    "from pathlib import Path\n",
    "\n",
    "import cv2\n",
    "import numpy as np\n",
    "import skimage\n",
    "from skimage import measure\n",
    "import pandas as pd\n",
    "import matplotlib.pyplot as pl\n",
    "\n",
    "import ast\n",
    "import operator\n",
    "\n",
    "import org_extension\n",
    "import chip\n",
    "import experiment as exp\n",
    "import chipcollections as collections\n",
    "from org_extension import *\n",
    "\n",
    "%matplotlib inline\n",
    "%config InlineBackend.figure_format = 'svg'"
   ]
  },
  {
   "cell_type": "code",
   "execution_count": null,
   "metadata": {
    "collapsed": true
   },
   "outputs": [],
   "source": [
    "#use ImageJ to to open stitched image from first timepoint\n",
    "#hover over center of microwells to set outside corner positions - (TL, TR, BL, BR)\n",
    "\n",
    "oc = ((1285,508), (8169,670), (995,9807), (7934,9974))\n"
   ]
  },
  {
   "cell_type": "code",
   "execution_count": null,
   "metadata": {
    "collapsed": true
   },
   "outputs": [],
   "source": [
    "#set parameter for microwell-to-microwell spacing between adjacent subarrays\n",
    "\n",
    "#10X imaging parameters\n",
    "#100um\n",
    "org_extension.INTRA_TILE_SPACING = 192\n",
    "\n",
    "#200um\n",
    "# org_extension.INTRA_TILE_SPACING = 305"
   ]
  },
  {
   "cell_type": "code",
   "execution_count": null,
   "metadata": {},
   "outputs": [],
   "source": [
    "#set parameters for rotating stitched image and extracting subarrays\n",
    "from datetime import datetime\n",
    "\n",
    "#number of complete subarrays in stitched image\n",
    "subarray_dims = (3,4) #col,row\n",
    "\n",
    "#microwell dimensions of subarrays\n",
    "#100um\n",
    "tile_dims = (20, 20)\n",
    "#200um\n",
    "# tile_dims = (10, 10)\n",
    "\n",
    "#don't need to change these, they don't impact processing\n",
    "channel = '2bf'\n",
    "exposure = 10\n",
    "\n",
    "#change to reflect the macrowell you're processing\n",
    "#well A1 = 1, A2 = 2, B1 = 5, etc.\n",
    "well_id = 'A1'\n",
    "well =1\n",
    "\n",
    "#date of processing (year, month, day)\n",
    "date = datetime(2022, 6, 22)\n",
    "\n",
    "#list of all timepoints in timecourse\n",
    "for timepoint in ('20200114_193820', '20200114_222045', '20200115_010311', '20200115_034536', '20200115_062755', '20200115_091009', '20200115_115222', '20200115_143408', '20200115_171549', '20200115_195743', '20200115_223926', '20200116_012108', '20200116_040253', '20200116_064442', '20200116_092622', '20200116_120814', '20200116_145024', '20200116_173236', '20200116_201419', '20200116_225611', '20200117_013808', '20200117_042004', '20200117_070202', '20200117_094409', '20200117_122608', '20200117_150806', '20200117_174958', '20200117_203158', '20200117_231358', '20200118_015600', '20200118_043802', '20200118_072002', '20200118_100203', '20200118_124405', '20200118_152607', '20200118_180806', '20200118_205009', '20200118_233217', '20200119_021423', '20200119_045620', '20200119_073818', '20200119_102016', '20200119_130213', '20200119_154406', '20200119_182602', '20200119_210801', '20200119_235000', '20200120_023156', '20200120_051354', '20200120_075554', '20200120_103756'):\n",
    "    #change srcHandle and targetHandle to match file location for stitched images\n",
    "    srcHandle = Path('/scratch/users/aadams0/raw_imaging_data/new/P53_ARID1A_20200114/{0}/{1}-{0}_timecourse/2bf/StitchedImages/StitchedImg_1_2bf_0.tif'.format(well_id, timepoint))\n",
    "    targetHandle = Path('/scratch/users/aadams0/raw_imaging_data/new/P53_ARID1A_20200114/{0}/{1}-{0}_timecourse/2bf/StitchedImages/RotatedImg_1_2bf_0.tif'.format(well_id, timepoint))\n",
    "    rot_img = readAndRotateImg(srcHandle, oc, subarray_dims, targetHandle = targetHandle)\n",
    "    rot_corners = transformCorners(readTiff(srcHandle), rot_img, oc)\n",
    "    divisions = getPartitions(rot_corners, subarray_dims)\n",
    "     #change root and outRoot below to match desired location for processed data\n",
    "    root = '/scratch/users/aadams0/processed_data/Nikon/new2/P53_ARID1A_20200114/{0}/2bf/'.format(well_id)\n",
    "    description = 'timepoint_{}'.format(timepoint)\n",
    "    operator = 'AS'\n",
    "    #change stampWidth depending on 100um vs 200um microwells\n",
    "    #100um - 10X\n",
    "    chip.ChipImage.stampWidth = 115\n",
    "    #200um - 10X\n",
    "    #     chip.ChipImage.stampWidth = 225\n",
    "    #200um - 20X\n",
    "    #     chip.ChipImage.stampWidth = 465\n",
    "    e = exp.Experiment(description, root, operator) #establish experiment\n",
    "    pinlist_path = '/home/users/aadams0/microwell_code/Pinlist/20x20_pinlist.csv'\n",
    "    pinlist = e.read_pinlist(pinlist_path)#establish pinlist\n",
    "    arrayRepo = processTiles(str(targetHandle), e, pinlist, divisions, tile_dims, subarray_dims, channel, exposure, date = date, well = well, desc = e.info)\n",
    "    outRoot = Path('/scratch/users/aadams0/processed_data/Nikon/new/P53_ARID1A_20200114/{0}/2bf/'.format(well_id)) #Folder to write summary image and CSV\n",
    "\n",
    "    ar = arrayRepo[0, 0]\n",
    "    hashStr = generateWellIdentifier(ar)\n",
    "    summary_imgPath = outRoot.joinpath('{}.tif'.format(hashStr))\n",
    "    summary_csvPath = outRoot.joinpath('{}.csv'.format(hashStr))\n",
    "\n",
    "    summaryDF = summarizeArrayRepo(arrayRepo)\n",
    "    summaryDF.to_csv(summary_csvPath)\n",
    "    writeSubArraySummaryImg(arrayRepo, summary_imgPath)"
   ]
  }
 ],
 "metadata": {
  "kernelspec": {
   "display_name": "Python 3",
   "language": "python",
   "name": "python3"
  },
  "language_info": {
   "codemirror_mode": {
    "name": "ipython",
    "version": 3
   },
   "file_extension": ".py",
   "mimetype": "text/x-python",
   "name": "python",
   "nbconvert_exporter": "python",
   "pygments_lexer": "ipython3",
   "version": "3.6.1"
  }
 },
 "nbformat": 4,
 "nbformat_minor": 2
}
