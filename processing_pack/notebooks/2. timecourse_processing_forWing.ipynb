{
 "cells": [
  {
   "cell_type": "code",
   "execution_count": null,
   "metadata": {},
   "outputs": [],
   "source": [
    "#imports\n",
    "\n",
    "%load_ext autoreload\n",
    "%autoreload 2\n",
    "\n",
    "import sys\n",
    "sys.path.insert(0, '/Users/alex/Organoids/Code/ProcessingPack_Organoids/processingpack')\n",
    "\n",
    "from copy import deepcopy\n",
    "from pathlib import Path\n",
    "\n",
    "import cv2\n",
    "import numpy as np\n",
    "import skimage\n",
    "from skimage import measure\n",
    "import pandas as pd\n",
    "import matplotlib.pyplot as pl\n",
    "\n",
    "import ast\n",
    "import operator\n",
    "\n",
    "import org_extension\n",
    "import chip\n",
    "import experiment as exp\n",
    "import chipcollections as collections\n",
    "from org_extension import *\n",
    "\n",
    "%matplotlib inline\n",
    "%config InlineBackend.figure_format = 'svg'"
   ]
  },
  {
   "cell_type": "code",
   "execution_count": null,
   "metadata": {},
   "outputs": [],
   "source": [
    "#use fiji to to open stitched image from first timepoint\n",
    "#hover cursor over center of well for top left, top right, bottom left, and bottom right corners of complete array\n",
    "\n",
    "oc = ((1002,3548), (7768,2951), (1821,12696), (8624,12114))"
   ]
  },
  {
   "cell_type": "code",
   "execution_count": null,
   "metadata": {},
   "outputs": [],
   "source": [
    "#set parameters for processing each well\n",
    "from datetime import datetime\n",
    "\n",
    "#number of complete subarrays in stitched image\n",
    "#typically it's 3 columns and somewhere between 3-5 rows depending on image\n",
    "subarray_dims = (3,4) #col,row\n",
    "\n",
    "#change tile dims for 100um or 200um microwells\n",
    "#100um\n",
    "tile_dims = (20, 20)\n",
    "#200um\n",
    "# tile_dims = (10, 10)\n",
    "\n",
    "#leave these alone, don't actually impact processing\n",
    "channel = '2bf'\n",
    "exposure = 10\n",
    "\n",
    "#change to reflect which well you're processing\n",
    "#well A1 = 1, B1 = 5, etc. \n",
    "well_id = 'B2'\n",
    "well =6\n",
    "\n",
    "#change to reflect date of processing\n",
    "date = datetime(2020, 11, 24)\n"
   ]
  },
  {
   "cell_type": "code",
   "execution_count": null,
   "metadata": {},
   "outputs": [],
   "source": [
    "#use terminal and text editor with find and replace to get list of all timepoint from timecourse\n",
    "for timepoint in ('20200710-193019', '20200710-214217', '20200710-235402', '20200711-020548', '20200711-041733', '20200711-062910', '20200711-084041', '20200711-105217', '20200711-130359', '20200711-151541', '20200711-172720', '20200711-193857', '20200711-215029', '20200712-000204', '20200712-021343', '20200712-042520', '20200712-063643', '20200712-084815', '20200712-105948', '20200712-131121', '20200712-152253', '20200712-173425', '20200712-194557', '20200712-215730', '20200713-000900', '20200713-022030', '20200713-043202', '20200713-064330', '20200713-085502', '20200713-110630', '20200713-131804', '20200713-152925', '20200713-174053', '20200713-195223', '20200713-220354', '20200714-001523', '20200714-022646', '20200714-043811', '20200714-064939', '20200714-090103', '20200714-111230', '20200714-132358', '20200714-153529', '20200714-174657', '20200714-195830', '20200714-220959', '20200715-002133', '20200715-023306', '20200715-044439', '20200715-065610', '20200715-090740', '20200715-111910', '20200715-132930', '20200715-153949', '20200715-175108', '20200715-200244', '20200715-221421', '20200716-002555', '20200716-023729', '20200716-044907', '20200716-070034', '20200716-091153'):\n",
    "    #change srcHandle and targetHandle to match file location for stitched images\n",
    "    srcHandle = Path('/Volumes/Backup Plus/raw_imaging_data/Nikon/4230_P53_ARID1A_200um_20200710/{0}/{1}-{0}_timecourse/6Mcherry/StitchedImages/StitchedImg_200_6Mcherry_0.tif'.format(well_id, timepoint))\n",
    "    targetHandle = Path('/Volumes/Backup Plus/raw_imaging_data/Nikon/4230_P53_ARID1A_200um_20200710/{0}/{1}-{0}_timecourse/6Mcherry/StitchedImages/RotatedImg_200_6Mcherry_0.tif'.format(well_id, timepoint))\n",
    "    rot_img = readAndRotateImg(srcHandle, oc, subarray_dims, targetHandle = targetHandle)\n",
    "    rot_corners = transformCorners(readTiff(srcHandle), rot_img, oc)\n",
    "    divisions = getPartitions(rot_corners, subarray_dims)\n",
    "    #change root  and outRoot below to match desired location for processed data\n",
    "    root = '/Volumes/Rapid_lbx/processed_data/Nikon/4230_P53_ARID1A_200um_20200710/{0}/mCherry/'.format(well_id)\n",
    "    description = 'timepoint_{0}'.format(timepoint)\n",
    "    operator = 'AS'\n",
    "    #change stampWidth depending on 100um vs 200um microwells\n",
    "    #100um\n",
    "    chip.ChipImage.stampWidth = 115\n",
    "    #200um\n",
    "#     chip.ChipImage.stampWidth = 225\n",
    "    e = exp.Experiment(description, root, operator) #establish experiment\n",
    "    #change pinlist path to location of ProcessingPack_Organoids\n",
    "    #100um\n",
    "    pinlist_path = '/Users/alex/Organoids/Code/ProcessingPack_Organoids/Pinlist/20x20_pinlist.csv'\n",
    "    #200um\n",
    "#     pinlist_path = '/Users/alex/Organoids/Code/ProcessingPack_Organoids/Pinlist/10x10_pinlist.csv'    \n",
    "    pinlist = e.read_pinlist(pinlist_path)#establish pinlist\n",
    "    arrayRepo = processTiles(str(targetHandle), e, pinlist, divisions, tile_dims, subarray_dims, channel, exposure, date = date, well = well, desc = e.info)\n",
    "    outRoot = Path('/Volumes/Rapid_lbx/processed_data/Nikon/4230_P53_ARID1A_200um_20200710/{0}/mCherry'.format(well_id)) #Folder to write summary image and CSV\n",
    "\n",
    "    ar = arrayRepo[0, 0] #Need any sub-array to generate the hash, so the first will do\n",
    "    hashStr = generateWellIdentifier(ar)\n",
    "    summary_imgPath = outRoot.joinpath('{}.tif'.format(hashStr))\n",
    "    summary_csvPath = outRoot.joinpath('{}.csv'.format(hashStr))\n",
    "    \n",
    "    summaryDF = summarizeArrayRepo(arrayRepo)\n",
    "    summaryDF.to_csv(summary_csvPath)\n",
    "    writeSubArraySummaryImg(arrayRepo, summary_imgPath)"
   ]
  }
 ],
 "metadata": {
  "kernelspec": {
   "display_name": "Python 3",
   "language": "python",
   "name": "python3"
  },
  "language_info": {
   "codemirror_mode": {
    "name": "ipython",
    "version": 3
   },
   "file_extension": ".py",
   "mimetype": "text/x-python",
   "name": "python",
   "nbconvert_exporter": "python",
   "pygments_lexer": "ipython3",
   "version": "3.7.3"
  }
 },
 "nbformat": 4,
 "nbformat_minor": 2
}
